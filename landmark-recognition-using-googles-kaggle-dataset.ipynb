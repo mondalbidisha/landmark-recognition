{
 "cells": [
  {
   "cell_type": "markdown",
   "metadata": {},
   "source": [
    "# Google Landmark Recognition"
   ]
  },
  {
   "cell_type": "code",
   "execution_count": 1,
   "metadata": {},
   "outputs": [],
   "source": [
    "from IPython.display import Image\n",
    "from IPython.core.display import HTML "
   ]
  },
  {
   "cell_type": "markdown",
   "metadata": {},
   "source": [
    "### Importing Libraries"
   ]
  },
  {
   "cell_type": "code",
   "execution_count": 2,
   "metadata": {},
   "outputs": [
    {
     "name": "stderr",
     "output_type": "stream",
     "text": [
      "/var/folders/58/86bbcqz17gx6f1ztz329m3qh0000gn/T/ipykernel_96409/820578422.py:4: DeprecationWarning: \n",
      "Pyarrow will become a required dependency of pandas in the next major release of pandas (pandas 3.0),\n",
      "(to allow more performant data types, such as the Arrow string type, and better interoperability with other libraries)\n",
      "but was not found to be installed on your system.\n",
      "If this would cause problems for you,\n",
      "please provide us feedback at https://github.com/pandas-dev/pandas/issues/54466\n",
      "        \n",
      "  import pandas as pd # data processing, CSV file I/O (e.g. pd.read_csv)\n"
     ]
    }
   ],
   "source": [
    "import requests\n",
    "import random\n",
    "import numpy as np # linear algebra\n",
    "import pandas as pd # data processing, CSV file I/O (e.g. pd.read_csv)\n",
    "from tqdm import tqdm\n",
    "from PIL import Image\n",
    "import matplotlib.pyplot as plt\n",
    "import threading\n",
    "import urllib\n",
    "import cv2\n",
    "import time\n",
    "from sklearn.model_selection import train_test_split\n",
    "from collections import Counter\n",
    "import os"
   ]
  },
  {
   "cell_type": "markdown",
   "metadata": {},
   "source": [
    "### Loading the Dataset"
   ]
  },
  {
   "cell_type": "code",
   "execution_count": 3,
   "metadata": {},
   "outputs": [],
   "source": [
    "def check_size(url):\n",
    "    r = requests.get(url, stream=True)\n",
    "    return int(r.headers['Content-Length'])\n",
    "\n",
    "def download_file(url, filename, bar=True):\n",
    "    try:\n",
    "        chunkSize = 1024\n",
    "        r = requests.get(url, stream=True)\n",
    "        with open(filename, 'wb') as f:\n",
    "            if bar:\n",
    "                pbar = tqdm( unit=\"B\", total=int( r.headers['Content-Length'] ) )\n",
    "            for chunk in r.iter_content(chunk_size=chunkSize): \n",
    "                if chunk: # filter out keep-alive new chunks\n",
    "                    if bar: \n",
    "                        pbar.update (len(chunk))\n",
    "                    f.write(chunk)\n",
    "        return filename\n",
    "    except Exception as e:\n",
    "        print(e)\n",
    "        return\n",
    "    \n",
    "def download_image_cv2_urllib(url):\n",
    "    try:\n",
    "        resp = urllib.request.urlopen(url)\n",
    "        foo = np.asarray(bytearray(resp.read()), dtype=\"uint8\")\n",
    "        foo = cv2.imdecode(foo, cv2.IMREAD_COLOR)\n",
    "        foo = cv2.resize(foo,(128, 128), interpolation=cv2.INTER_AREA)\n",
    "        return foo\n",
    "    except:\n",
    "        return np.array([])"
   ]
  },
  {
   "cell_type": "code",
   "execution_count": 4,
   "metadata": {},
   "outputs": [
    {
     "name": "stdout",
     "output_type": "stream",
     "text": [
      "                 id  landmark_id\n",
      "0  17660ef415d37059            1\n",
      "1  92b6290d571448f6            1\n",
      "2  cd41bf948edc0340            1\n",
      "3  fb09f1e98c6d2f70            1\n",
      "4  25c9dfc7ea69838d            7\n",
      "(1580470, 2)\n",
      "Number of classes 81313\n"
     ]
    }
   ],
   "source": [
    "train = pd.read_csv(\"train.csv\")\n",
    "print(train.head())\n",
    "print(train.shape)\n",
    "print(\"Number of classes {}\".format(len(train.landmark_id.unique())))"
   ]
  },
  {
   "cell_type": "code",
   "execution_count": 5,
   "metadata": {},
   "outputs": [
    {
     "name": "stdout",
     "output_type": "stream",
     "text": [
      "Total number of valid classes: 302\n"
     ]
    },
    {
     "ename": "NameError",
     "evalue": "name 'NUM_EXAMPLES' is not defined",
     "output_type": "error",
     "traceback": [
      "\u001b[0;31m---------------------------------------------------------------------------\u001b[0m",
      "\u001b[0;31mNameError\u001b[0m                                 Traceback (most recent call last)",
      "Cell \u001b[0;32mIn[5], line 22\u001b[0m\n\u001b[1;32m     14\u001b[0m     i \u001b[38;5;241m+\u001b[39m\u001b[38;5;241m=\u001b[39m \u001b[38;5;241m1\u001b[39m\n\u001b[1;32m     16\u001b[0m \u001b[38;5;66;03m# all_urls = train['url'].tolist()\u001b[39;00m\n\u001b[1;32m     17\u001b[0m \u001b[38;5;66;03m# all_landmarks = train['landmark_id'].tolist()\u001b[39;00m\n\u001b[1;32m     18\u001b[0m \u001b[38;5;66;03m# valid_urls_dict = {x[0].split(\"/\")[-1]:landmark_to_idx[x[1]] for x in zip(all_urls, all_landmarks) if x[1] in landmarks_dict}\u001b[39;00m\n\u001b[1;32m     19\u001b[0m \u001b[38;5;66;03m# valid_urls_list = [x[0] for x in zip(all_urls, all_landmarks) if x[1] in landmarks_dict]\u001b[39;00m\n\u001b[1;32m     20\u001b[0m \n\u001b[1;32m     21\u001b[0m \u001b[38;5;66;03m# NUM_EXAMPLES = len(valid_urls_list)\u001b[39;00m\n\u001b[0;32m---> 22\u001b[0m \u001b[38;5;28mprint\u001b[39m(\u001b[38;5;124m\"\u001b[39m\u001b[38;5;124mTotal number of valid examples: \u001b[39m\u001b[38;5;132;01m{}\u001b[39;00m\u001b[38;5;124m\"\u001b[39m\u001b[38;5;241m.\u001b[39mformat(\u001b[43mNUM_EXAMPLES\u001b[49m))\n",
      "\u001b[0;31mNameError\u001b[0m: name 'NUM_EXAMPLES' is not defined"
     ]
    }
   ],
   "source": [
    "NUM_THRESHOLD = 250\n",
    "\n",
    "counts = dict(Counter(train['landmark_id']))\n",
    "landmarks_dict = {x:[] for x in train.landmark_id.unique() if counts[x] >= NUM_THRESHOLD}\n",
    "NUM_CLASSES = len(landmarks_dict)\n",
    "print(\"Total number of valid classes: {}\".format(NUM_CLASSES))\n",
    "\n",
    "i = 0\n",
    "landmark_to_idx = {}\n",
    "idx_to_landmark = []\n",
    "for k in landmarks_dict:\n",
    "    landmark_to_idx[k] = i\n",
    "    idx_to_landmark.append(k)\n",
    "    i += 1\n",
    "\n",
    "# all_urls = train['url'].tolist()\n",
    "# all_landmarks = train['landmark_id'].tolist()\n",
    "# valid_urls_dict = {x[0].split(\"/\")[-1]:landmark_to_idx[x[1]] for x in zip(all_urls, all_landmarks) if x[1] in landmarks_dict}\n",
    "# valid_urls_list = [x[0] for x in zip(all_urls, all_landmarks) if x[1] in landmarks_dict]\n",
    "\n",
    "# NUM_EXAMPLES = len(valid_urls_list)\n",
    "print(\"Total number of valid examples: {}\".format(NUM_EXAMPLES))"
   ]
  },
  {
   "cell_type": "markdown",
   "metadata": {},
   "source": [
    "## Display some images from URLs / Some URLs Visulization"
   ]
  },
  {
   "cell_type": "code",
   "execution_count": null,
   "metadata": {},
   "outputs": [
    {
     "ename": "NameError",
     "evalue": "name 'valid_urls_list' is not defined",
     "output_type": "error",
     "traceback": [
      "\u001b[0;31m---------------------------------------------------------------------------\u001b[0m",
      "\u001b[0;31mNameError\u001b[0m                                 Traceback (most recent call last)",
      "Cell \u001b[0;32mIn[10], line 7\u001b[0m\n\u001b[1;32m      5\u001b[0m rows \u001b[38;5;241m=\u001b[39m \u001b[38;5;241m4\u001b[39m\n\u001b[1;32m      6\u001b[0m i \u001b[38;5;241m=\u001b[39m \u001b[38;5;241m1\u001b[39m\n\u001b[0;32m----> 7\u001b[0m \u001b[38;5;28;01mfor\u001b[39;00m url \u001b[38;5;129;01min\u001b[39;00m \u001b[43mvalid_urls_list\u001b[49m[:\u001b[38;5;241m16\u001b[39m]:\n\u001b[1;32m      8\u001b[0m     im \u001b[38;5;241m=\u001b[39m download_image_cv2_urllib(url)\n\u001b[1;32m      9\u001b[0m     \u001b[38;5;28;01mif\u001b[39;00m im\u001b[38;5;241m.\u001b[39msize \u001b[38;5;241m!=\u001b[39m \u001b[38;5;241m0\u001b[39m:\n",
      "\u001b[0;31mNameError\u001b[0m: name 'valid_urls_list' is not defined"
     ]
    },
    {
     "data": {
      "text/plain": [
       "<Figure size 1600x1600 with 0 Axes>"
      ]
     },
     "metadata": {},
     "output_type": "display_data"
    }
   ],
   "source": [
    "w=20\n",
    "h=20\n",
    "fig=plt.figure(figsize=(16, 16))\n",
    "columns = 4\n",
    "rows = 4\n",
    "i = 1\n",
    "for url in valid_urls_list[:16]:\n",
    "    im = download_image_cv2_urllib(url)\n",
    "    if im.size != 0:\n",
    "        fig.add_subplot(rows, columns, i)\n",
    "        plt.title(\"Landmark: \"+str(idx_to_landmark[valid_urls_dict[url.split(\"/\")[-1]]]))\n",
    "        plt.imshow(im)\n",
    "        i += 1"
   ]
  },
  {
   "cell_type": "code",
   "execution_count": null,
   "metadata": {},
   "outputs": [
    {
     "ename": "NameError",
     "evalue": "name 'valid_urls_dict' is not defined",
     "output_type": "error",
     "traceback": [
      "\u001b[0;31m---------------------------------------------------------------------------\u001b[0m",
      "\u001b[0;31mNameError\u001b[0m                                 Traceback (most recent call last)",
      "Cell \u001b[0;32mIn[17], line 6\u001b[0m\n\u001b[1;32m      4\u001b[0m columns \u001b[38;5;241m=\u001b[39m \u001b[38;5;241m5\u001b[39m\n\u001b[1;32m      5\u001b[0m rows \u001b[38;5;241m=\u001b[39m \u001b[38;5;241m4\u001b[39m\n\u001b[0;32m----> 6\u001b[0m landmarks \u001b[38;5;241m=\u001b[39m [idx_to_landmark[valid_urls_dict[x]] \u001b[38;5;28;01mfor\u001b[39;00m x \u001b[38;5;129;01min\u001b[39;00m random\u001b[38;5;241m.\u001b[39msample(\u001b[43mvalid_urls_dict\u001b[49m\u001b[38;5;241m.\u001b[39mkeys(), rows)]\n\u001b[1;32m      7\u001b[0m \u001b[38;5;28;01mfor\u001b[39;00m i \u001b[38;5;129;01min\u001b[39;00m \u001b[38;5;28mrange\u001b[39m(rows):\n\u001b[1;32m      8\u001b[0m     landmark \u001b[38;5;241m=\u001b[39m landmarks[i]\n",
      "\u001b[0;31mNameError\u001b[0m: name 'valid_urls_dict' is not defined"
     ]
    },
    {
     "data": {
      "text/plain": [
       "<Figure size 1600x1600 with 0 Axes>"
      ]
     },
     "metadata": {},
     "output_type": "display_data"
    }
   ],
   "source": [
    "w=20\n",
    "h=20\n",
    "fig=plt.figure(figsize=(16, 16))\n",
    "columns = 5\n",
    "rows = 4\n",
    "landmarks = [idx_to_landmark[valid_urls_dict[x]] for x in random.sample(valid_urls_dict.keys(), rows)]\n",
    "for i in range(rows):\n",
    "    landmark = landmarks[i]\n",
    "    urls = [x[0] for x in zip(all_urls, all_landmarks) if x[1]==landmark]\n",
    "    for j in range(columns):\n",
    "        im = download_image_cv2_urllib(urls[j])\n",
    "        if im.size != 0:\n",
    "            fig.add_subplot(rows, columns, i*columns+j+1)\n",
    "            plt.title(\"Landmark: \"+str(landmark))\n",
    "            plt.imshow(im)"
   ]
  },
  {
   "cell_type": "code",
   "execution_count": null,
   "metadata": {},
   "outputs": [
    {
     "data": {
      "text/html": [
       "<div>\n",
       "<style scoped>\n",
       "    .dataframe tbody tr th:only-of-type {\n",
       "        vertical-align: middle;\n",
       "    }\n",
       "\n",
       "    .dataframe tbody tr th {\n",
       "        vertical-align: top;\n",
       "    }\n",
       "\n",
       "    .dataframe thead th {\n",
       "        text-align: right;\n",
       "    }\n",
       "</style>\n",
       "<table border=\"1\" class=\"dataframe\">\n",
       "  <thead>\n",
       "    <tr style=\"text-align: right;\">\n",
       "      <th></th>\n",
       "      <th>id</th>\n",
       "      <th>url</th>\n",
       "      <th>landmark_id</th>\n",
       "    </tr>\n",
       "  </thead>\n",
       "  <tbody>\n",
       "    <tr>\n",
       "      <td>0</td>\n",
       "      <td>6e158a47eb2ca3f6</td>\n",
       "      <td>https://upload.wikimedia.org/wikipedia/commons...</td>\n",
       "      <td>142820</td>\n",
       "    </tr>\n",
       "    <tr>\n",
       "      <td>1</td>\n",
       "      <td>202cd79556f30760</td>\n",
       "      <td>http://upload.wikimedia.org/wikipedia/commons/...</td>\n",
       "      <td>104169</td>\n",
       "    </tr>\n",
       "    <tr>\n",
       "      <td>2</td>\n",
       "      <td>3ad87684c99c06e1</td>\n",
       "      <td>http://upload.wikimedia.org/wikipedia/commons/...</td>\n",
       "      <td>37914</td>\n",
       "    </tr>\n",
       "    <tr>\n",
       "      <td>3</td>\n",
       "      <td>e7f70e9c61e66af3</td>\n",
       "      <td>https://upload.wikimedia.org/wikipedia/commons...</td>\n",
       "      <td>102140</td>\n",
       "    </tr>\n",
       "    <tr>\n",
       "      <td>4</td>\n",
       "      <td>4072182eddd0100e</td>\n",
       "      <td>https://upload.wikimedia.org/wikipedia/commons...</td>\n",
       "      <td>2474</td>\n",
       "    </tr>\n",
       "  </tbody>\n",
       "</table>\n",
       "</div>"
      ],
      "text/plain": [
       "                 id                                                url  \\\n",
       "0  6e158a47eb2ca3f6  https://upload.wikimedia.org/wikipedia/commons...   \n",
       "1  202cd79556f30760  http://upload.wikimedia.org/wikipedia/commons/...   \n",
       "2  3ad87684c99c06e1  http://upload.wikimedia.org/wikipedia/commons/...   \n",
       "3  e7f70e9c61e66af3  https://upload.wikimedia.org/wikipedia/commons...   \n",
       "4  4072182eddd0100e  https://upload.wikimedia.org/wikipedia/commons...   \n",
       "\n",
       "   landmark_id  \n",
       "0       142820  \n",
       "1       104169  \n",
       "2        37914  \n",
       "3       102140  \n",
       "4         2474  "
      ]
     },
     "execution_count": 8,
     "metadata": {},
     "output_type": "execute_result"
    }
   ],
   "source": [
    "train.head()"
   ]
  },
  {
   "cell_type": "code",
   "execution_count": null,
   "metadata": {},
   "outputs": [],
   "source": [
    "train_data = train.copy()"
   ]
  },
  {
   "cell_type": "code",
   "execution_count": null,
   "metadata": {},
   "outputs": [
    {
     "name": "stdout",
     "output_type": "stream",
     "text": [
      "id 3c1138a4a5369aca\n",
      "url: http://upload.wikimedia.org/wikipedia/commons/7/7f/Interieur%2C_terug_gevonden_fragment_figuratief_reli%C3%ABf_-_Breda_-_20362006_-_RCE.jpg\n",
      "landmark id: 51856\n"
     ]
    }
   ],
   "source": [
    "# now open the URL\n",
    "temp = 4444\n",
    "print('id', train_data['id'][temp])\n",
    "print('url:', train_data['url'][temp])\n",
    "print('landmark id:', train_data['landmark_id'][temp])"
   ]
  },
  {
   "cell_type": "markdown",
   "metadata": {},
   "source": [
    "### Number of Landmark Id"
   ]
  },
  {
   "cell_type": "code",
   "execution_count": null,
   "metadata": {},
   "outputs": [
    {
     "data": {
      "text/plain": [
       "<matplotlib.axes._subplots.AxesSubplot at 0x1ace986e148>"
      ]
     },
     "execution_count": 11,
     "metadata": {},
     "output_type": "execute_result"
    },
    {
     "data": {
      "image/png": "[encoded data removed]",
      "text/plain": [
       "<Figure size 432x288 with 1 Axes>"
      ]
     },
     "metadata": {
      "needs_background": "light"
     },
     "output_type": "display_data"
    }
   ],
   "source": [
    "train_data['landmark_id'].value_counts().hist()"
   ]
  },
  {
   "cell_type": "markdown",
   "metadata": {},
   "source": [
    "## Checking for missing Data"
   ]
  },
  {
   "cell_type": "code",
   "execution_count": null,
   "metadata": {},
   "outputs": [
    {
     "data": {
      "text/html": [
       "<div>\n",
       "<style scoped>\n",
       "    .dataframe tbody tr th:only-of-type {\n",
       "        vertical-align: middle;\n",
       "    }\n",
       "\n",
       "    .dataframe tbody tr th {\n",
       "        vertical-align: top;\n",
       "    }\n",
       "\n",
       "    .dataframe thead th {\n",
       "        text-align: right;\n",
       "    }\n",
       "</style>\n",
       "<table border=\"1\" class=\"dataframe\">\n",
       "  <thead>\n",
       "    <tr style=\"text-align: right;\">\n",
       "      <th></th>\n",
       "      <th>Total</th>\n",
       "      <th>Percent</th>\n",
       "    </tr>\n",
       "  </thead>\n",
       "  <tbody>\n",
       "    <tr>\n",
       "      <td>landmark_id</td>\n",
       "      <td>0</td>\n",
       "      <td>0.0</td>\n",
       "    </tr>\n",
       "    <tr>\n",
       "      <td>url</td>\n",
       "      <td>0</td>\n",
       "      <td>0.0</td>\n",
       "    </tr>\n",
       "    <tr>\n",
       "      <td>id</td>\n",
       "      <td>0</td>\n",
       "      <td>0.0</td>\n",
       "    </tr>\n",
       "  </tbody>\n",
       "</table>\n",
       "</div>"
      ],
      "text/plain": [
       "             Total  Percent\n",
       "landmark_id      0      0.0\n",
       "url              0      0.0\n",
       "id               0      0.0"
      ]
     },
     "execution_count": 12,
     "metadata": {},
     "output_type": "execute_result"
    }
   ],
   "source": [
    "total = train_data.isnull().sum().sort_values(ascending = False)\n",
    "percent = (train_data.isnull().sum()/train_data.isnull().count()).sort_values(ascending = False)\n",
    "missing_train_data = pd.concat([total, percent], axis=1, keys=['Total', 'Percent'])\n",
    "missing_train_data.head()"
   ]
  },
  {
   "cell_type": "markdown",
   "metadata": {},
   "source": [
    "### Occurance of landmark_id in decreasing order(Top categories)"
   ]
  },
  {
   "cell_type": "code",
   "execution_count": null,
   "metadata": {},
   "outputs": [
    {
     "data": {
      "text/html": [
       "<div>\n",
       "<style scoped>\n",
       "    .dataframe tbody tr th:only-of-type {\n",
       "        vertical-align: middle;\n",
       "    }\n",
       "\n",
       "    .dataframe tbody tr th {\n",
       "        vertical-align: top;\n",
       "    }\n",
       "\n",
       "    .dataframe thead th {\n",
       "        text-align: right;\n",
       "    }\n",
       "</style>\n",
       "<table border=\"1\" class=\"dataframe\">\n",
       "  <thead>\n",
       "    <tr style=\"text-align: right;\">\n",
       "      <th></th>\n",
       "      <th>landmark_id</th>\n",
       "      <th>count</th>\n",
       "    </tr>\n",
       "  </thead>\n",
       "  <tbody>\n",
       "    <tr>\n",
       "      <td>0</td>\n",
       "      <td>138982</td>\n",
       "      <td>10247</td>\n",
       "    </tr>\n",
       "    <tr>\n",
       "      <td>1</td>\n",
       "      <td>62798</td>\n",
       "      <td>4333</td>\n",
       "    </tr>\n",
       "    <tr>\n",
       "      <td>2</td>\n",
       "      <td>177870</td>\n",
       "      <td>3327</td>\n",
       "    </tr>\n",
       "    <tr>\n",
       "      <td>3</td>\n",
       "      <td>176528</td>\n",
       "      <td>3243</td>\n",
       "    </tr>\n",
       "    <tr>\n",
       "      <td>4</td>\n",
       "      <td>192931</td>\n",
       "      <td>2627</td>\n",
       "    </tr>\n",
       "    <tr>\n",
       "      <td>5</td>\n",
       "      <td>126637</td>\n",
       "      <td>2589</td>\n",
       "    </tr>\n",
       "    <tr>\n",
       "      <td>6</td>\n",
       "      <td>83144</td>\n",
       "      <td>2351</td>\n",
       "    </tr>\n",
       "    <tr>\n",
       "      <td>7</td>\n",
       "      <td>171772</td>\n",
       "      <td>2268</td>\n",
       "    </tr>\n",
       "  </tbody>\n",
       "</table>\n",
       "</div>"
      ],
      "text/plain": [
       "   landmark_id  count\n",
       "0       138982  10247\n",
       "1        62798   4333\n",
       "2       177870   3327\n",
       "3       176528   3243\n",
       "4       192931   2627\n",
       "5       126637   2589\n",
       "6        83144   2351\n",
       "7       171772   2268"
      ]
     },
     "execution_count": 13,
     "metadata": {},
     "output_type": "execute_result"
    }
   ],
   "source": [
    "temp = pd.DataFrame(train_data.landmark_id.value_counts().head(8))\n",
    "temp.reset_index(inplace=True)\n",
    "temp.columns = ['landmark_id','count']\n",
    "temp"
   ]
  },
  {
   "cell_type": "markdown",
   "metadata": {},
   "source": [
    "### Frequent landmark_ids"
   ]
  },
  {
   "cell_type": "code",
   "execution_count": null,
   "metadata": {},
   "outputs": [
    {
     "data": {
      "image/png": "[encoded data removed]",
      "text/plain": [
       "<Figure size 648x576 with 1 Axes>"
      ]
     },
     "metadata": {
      "needs_background": "light"
     },
     "output_type": "display_data"
    }
   ],
   "source": [
    "plt.figure(figsize = (9, 8))\n",
    "plt.title('Most frequent landmarks')\n",
    "sns.set_color_codes(\"pastel\")\n",
    "sns.barplot(x=\"landmark_id\", y=\"count\", data=temp,\n",
    "            label=\"Count\")\n",
    "plt.show()"
   ]
  },
  {
   "cell_type": "markdown",
   "metadata": {},
   "source": [
    "### Occurance of landmark_id in increasing order"
   ]
  },
  {
   "cell_type": "code",
   "execution_count": null,
   "metadata": {},
   "outputs": [
    {
     "data": {
      "text/html": [
       "<div>\n",
       "<style scoped>\n",
       "    .dataframe tbody tr th:only-of-type {\n",
       "        vertical-align: middle;\n",
       "    }\n",
       "\n",
       "    .dataframe tbody tr th {\n",
       "        vertical-align: top;\n",
       "    }\n",
       "\n",
       "    .dataframe thead th {\n",
       "        text-align: right;\n",
       "    }\n",
       "</style>\n",
       "<table border=\"1\" class=\"dataframe\">\n",
       "  <thead>\n",
       "    <tr style=\"text-align: right;\">\n",
       "      <th></th>\n",
       "      <th>landmark_id</th>\n",
       "      <th>count</th>\n",
       "    </tr>\n",
       "  </thead>\n",
       "  <tbody>\n",
       "    <tr>\n",
       "      <td>0</td>\n",
       "      <td>22473</td>\n",
       "      <td>1</td>\n",
       "    </tr>\n",
       "    <tr>\n",
       "      <td>1</td>\n",
       "      <td>70512</td>\n",
       "      <td>1</td>\n",
       "    </tr>\n",
       "    <tr>\n",
       "      <td>2</td>\n",
       "      <td>127852</td>\n",
       "      <td>1</td>\n",
       "    </tr>\n",
       "    <tr>\n",
       "      <td>3</td>\n",
       "      <td>134828</td>\n",
       "      <td>1</td>\n",
       "    </tr>\n",
       "    <tr>\n",
       "      <td>4</td>\n",
       "      <td>139519</td>\n",
       "      <td>1</td>\n",
       "    </tr>\n",
       "    <tr>\n",
       "      <td>5</td>\n",
       "      <td>24520</td>\n",
       "      <td>1</td>\n",
       "    </tr>\n",
       "    <tr>\n",
       "      <td>6</td>\n",
       "      <td>17242</td>\n",
       "      <td>1</td>\n",
       "    </tr>\n",
       "    <tr>\n",
       "      <td>7</td>\n",
       "      <td>133954</td>\n",
       "      <td>1</td>\n",
       "    </tr>\n",
       "  </tbody>\n",
       "</table>\n",
       "</div>"
      ],
      "text/plain": [
       "   landmark_id  count\n",
       "0        22473      1\n",
       "1        70512      1\n",
       "2       127852      1\n",
       "3       134828      1\n",
       "4       139519      1\n",
       "5        24520      1\n",
       "6        17242      1\n",
       "7       133954      1"
      ]
     },
     "execution_count": 15,
     "metadata": {},
     "output_type": "execute_result"
    }
   ],
   "source": [
    "temp = pd.DataFrame(train_data.landmark_id.value_counts().tail(8))\n",
    "temp.reset_index(inplace=True)\n",
    "temp.columns = ['landmark_id','count']\n",
    "temp"
   ]
  },
  {
   "cell_type": "markdown",
   "metadata": {},
   "source": [
    "### Least frequent landmark_ids"
   ]
  },
  {
   "cell_type": "code",
   "execution_count": null,
   "metadata": {},
   "outputs": [
    {
     "data": {
      "image/png": "[encoded data removed]",
      "text/plain": [
       "<Figure size 648x576 with 1 Axes>"
      ]
     },
     "metadata": {
      "needs_background": "light"
     },
     "output_type": "display_data"
    }
   ],
   "source": [
    "plt.figure(figsize = (9, 8))\n",
    "plt.title('Least frequent landmarks')\n",
    "sns.set_color_codes(\"pastel\")\n",
    "sns.barplot(x=\"landmark_id\", y=\"count\", data=temp,\n",
    "            label=\"Count\")\n",
    "plt.show()"
   ]
  },
  {
   "cell_type": "markdown",
   "metadata": {},
   "source": [
    "### Number of Unique id, url and Landmark Id3"
   ]
  },
  {
   "cell_type": "code",
   "execution_count": null,
   "metadata": {},
   "outputs": [
    {
     "data": {
      "text/plain": [
       "id             4132914\n",
       "url            4132914\n",
       "landmark_id     203094\n",
       "dtype: int64"
      ]
     },
     "execution_count": 17,
     "metadata": {},
     "output_type": "execute_result"
    }
   ],
   "source": [
    "train_data.nunique()"
   ]
  },
  {
   "cell_type": "markdown",
   "metadata": {},
   "source": [
    "### Class distribution"
   ]
  },
  {
   "cell_type": "code",
   "execution_count": null,
   "metadata": {},
   "outputs": [
    {
     "data": {
      "image/png": "[encoded data removed]",
      "text/plain": [
       "<Figure size 720x576 with 1 Axes>"
      ]
     },
     "metadata": {
      "needs_background": "light"
     },
     "output_type": "display_data"
    }
   ],
   "source": [
    "plt.figure(figsize = (10, 8))\n",
    "plt.title('Category Distribuition')\n",
    "sns.distplot(train_data['landmark_id'])\n",
    "\n",
    "plt.show()"
   ]
  },
  {
   "cell_type": "code",
   "execution_count": null,
   "metadata": {},
   "outputs": [
    {
     "name": "stdout",
     "output_type": "stream",
     "text": [
      "Number of classes under 20 occurences 152925 out of total number of categories 203094\n"
     ]
    }
   ],
   "source": [
    "print(\"Number of classes under 20 occurences\",(train_data['landmark_id'].value_counts() <= 20).sum(),'out of total number of categories',len(train_data['landmark_id'].unique()))"
   ]
  },
  {
   "cell_type": "code",
   "execution_count": null,
   "metadata": {},
   "outputs": [],
   "source": [
    "from IPython.display import Image\n",
    "from IPython.core.display import HTML \n",
    "\n",
    "def display_category(urls, category_name):\n",
    "    img_style = \"width: 180px; margin: 0px; float: left; border: 1px solid black;\"\n",
    "    images_list = ''.join([f\"<img style='{img_style}' src='{u}' />\" for _, u in urls.head(12).iteritems()])\n",
    "\n",
    "    display(HTML(images_list))"
   ]
  },
  {
   "cell_type": "code",
   "execution_count": null,
   "metadata": {},
   "outputs": [
    {
     "name": "stdout",
     "output_type": "stream",
     "text": [
      "Training data size (4132914, 4)\n"
     ]
    }
   ],
   "source": [
    "print(\"Training data size\",train_data.shape)"
   ]
  },
  {
   "cell_type": "code",
   "execution_count": null,
   "metadata": {},
   "outputs": [
    {
     "data": {
      "text/html": [
       "<div>\n",
       "<style scoped>\n",
       "    .dataframe tbody tr th:only-of-type {\n",
       "        vertical-align: middle;\n",
       "    }\n",
       "\n",
       "    .dataframe tbody tr th {\n",
       "        vertical-align: top;\n",
       "    }\n",
       "\n",
       "    .dataframe thead th {\n",
       "        text-align: right;\n",
       "    }\n",
       "</style>\n",
       "<table border=\"1\" class=\"dataframe\">\n",
       "  <thead>\n",
       "    <tr style=\"text-align: right;\">\n",
       "      <th></th>\n",
       "      <th>id</th>\n",
       "      <th>url</th>\n",
       "      <th>landmark_id</th>\n",
       "      <th>site_name</th>\n",
       "    </tr>\n",
       "  </thead>\n",
       "  <tbody>\n",
       "    <tr>\n",
       "      <td>0</td>\n",
       "      <td>6e158a47eb2ca3f6</td>\n",
       "      <td>https://upload.wikimedia.org/wikipedia/commons...</td>\n",
       "      <td>142820</td>\n",
       "      <td>upload.wikimedia.org</td>\n",
       "    </tr>\n",
       "    <tr>\n",
       "      <td>1</td>\n",
       "      <td>202cd79556f30760</td>\n",
       "      <td>http://upload.wikimedia.org/wikipedia/commons/...</td>\n",
       "      <td>104169</td>\n",
       "      <td>upload.wikimedia.org</td>\n",
       "    </tr>\n",
       "    <tr>\n",
       "      <td>2</td>\n",
       "      <td>3ad87684c99c06e1</td>\n",
       "      <td>http://upload.wikimedia.org/wikipedia/commons/...</td>\n",
       "      <td>37914</td>\n",
       "      <td>upload.wikimedia.org</td>\n",
       "    </tr>\n",
       "    <tr>\n",
       "      <td>3</td>\n",
       "      <td>e7f70e9c61e66af3</td>\n",
       "      <td>https://upload.wikimedia.org/wikipedia/commons...</td>\n",
       "      <td>102140</td>\n",
       "      <td>upload.wikimedia.org</td>\n",
       "    </tr>\n",
       "    <tr>\n",
       "      <td>4</td>\n",
       "      <td>4072182eddd0100e</td>\n",
       "      <td>https://upload.wikimedia.org/wikipedia/commons...</td>\n",
       "      <td>2474</td>\n",
       "      <td>upload.wikimedia.org</td>\n",
       "    </tr>\n",
       "    <tr>\n",
       "      <td>5</td>\n",
       "      <td>5554f8798114ed04</td>\n",
       "      <td>https://upload.wikimedia.org/wikipedia/commons...</td>\n",
       "      <td>149463</td>\n",
       "      <td>upload.wikimedia.org</td>\n",
       "    </tr>\n",
       "    <tr>\n",
       "      <td>6</td>\n",
       "      <td>6f31b874d1a4d489</td>\n",
       "      <td>https://upload.wikimedia.org/wikipedia/commons...</td>\n",
       "      <td>6888</td>\n",
       "      <td>upload.wikimedia.org</td>\n",
       "    </tr>\n",
       "    <tr>\n",
       "      <td>7</td>\n",
       "      <td>16d8aa057cdd01b9</td>\n",
       "      <td>http://upload.wikimedia.org/wikipedia/commons/...</td>\n",
       "      <td>25719</td>\n",
       "      <td>upload.wikimedia.org</td>\n",
       "    </tr>\n",
       "  </tbody>\n",
       "</table>\n",
       "</div>"
      ],
      "text/plain": [
       "                 id                                                url  \\\n",
       "0  6e158a47eb2ca3f6  https://upload.wikimedia.org/wikipedia/commons...   \n",
       "1  202cd79556f30760  http://upload.wikimedia.org/wikipedia/commons/...   \n",
       "2  3ad87684c99c06e1  http://upload.wikimedia.org/wikipedia/commons/...   \n",
       "3  e7f70e9c61e66af3  https://upload.wikimedia.org/wikipedia/commons...   \n",
       "4  4072182eddd0100e  https://upload.wikimedia.org/wikipedia/commons...   \n",
       "5  5554f8798114ed04  https://upload.wikimedia.org/wikipedia/commons...   \n",
       "6  6f31b874d1a4d489  https://upload.wikimedia.org/wikipedia/commons...   \n",
       "7  16d8aa057cdd01b9  http://upload.wikimedia.org/wikipedia/commons/...   \n",
       "\n",
       "   landmark_id             site_name  \n",
       "0       142820  upload.wikimedia.org  \n",
       "1       104169  upload.wikimedia.org  \n",
       "2        37914  upload.wikimedia.org  \n",
       "3       102140  upload.wikimedia.org  \n",
       "4         2474  upload.wikimedia.org  \n",
       "5       149463  upload.wikimedia.org  \n",
       "6         6888  upload.wikimedia.org  \n",
       "7        25719  upload.wikimedia.org  "
      ]
     },
     "execution_count": 24,
     "metadata": {},
     "output_type": "execute_result"
    }
   ],
   "source": [
    "train_data.head(8)"
   ]
  },
  {
   "cell_type": "markdown",
   "metadata": {},
   "source": [
    "### Occurance of site in decreasing order(Top categories)"
   ]
  },
  {
   "cell_type": "code",
   "execution_count": null,
   "metadata": {},
   "outputs": [
    {
     "data": {
      "text/html": [
       "<div>\n",
       "<style scoped>\n",
       "    .dataframe tbody tr th:only-of-type {\n",
       "        vertical-align: middle;\n",
       "    }\n",
       "\n",
       "    .dataframe tbody tr th {\n",
       "        vertical-align: top;\n",
       "    }\n",
       "\n",
       "    .dataframe thead th {\n",
       "        text-align: right;\n",
       "    }\n",
       "</style>\n",
       "<table border=\"1\" class=\"dataframe\">\n",
       "  <thead>\n",
       "    <tr style=\"text-align: right;\">\n",
       "      <th></th>\n",
       "      <th>site_name</th>\n",
       "      <th>count</th>\n",
       "    </tr>\n",
       "  </thead>\n",
       "  <tbody>\n",
       "    <tr>\n",
       "      <td>0</td>\n",
       "      <td>upload.wikimedia.org</td>\n",
       "      <td>4132914</td>\n",
       "    </tr>\n",
       "  </tbody>\n",
       "</table>\n",
       "</div>"
      ],
      "text/plain": [
       "              site_name    count\n",
       "0  upload.wikimedia.org  4132914"
      ]
     },
     "execution_count": 25,
     "metadata": {},
     "output_type": "execute_result"
    }
   ],
   "source": [
    "temp = pd.DataFrame(train_data.site_name.value_counts())\n",
    "temp.reset_index(inplace=True)\n",
    "temp.columns = ['site_name','count']\n",
    "temp\n"
   ]
  },
  {
   "cell_type": "code",
   "execution_count": null,
   "metadata": {},
   "outputs": [],
   "source": [
    "import numpy as np # linear algebra\n",
    "import pandas as pd # data processing, CSV file I/O (e.g. pd.read_csv)\n",
    "import matplotlib.pyplot as plt\n",
    "import seaborn as sns\n",
    "from IPython.display import Image\n",
    "from IPython.core.display import HTML \n",
    "from PIL import Image\n",
    "from PIL.ExifTags import TAGS, GPSTAGS\n",
    "from urllib import request\n",
    "from io import BytesIO\n",
    "%matplotlib inline "
   ]
  },
  {
   "cell_type": "code",
   "execution_count": null,
   "metadata": {},
   "outputs": [],
   "source": [
    "def displayLandmarkImages(urls):\n",
    "    \n",
    "    imageStyle = \"height: 60px; margin: 2px; float: left; border: 1px solid blue;\"\n",
    "    imagesList = ''.join([f\"<img style='{imageStyle}' src='{u}' />\" for _, u in urls.iteritems()])\n",
    "\n",
    "    display(HTML(imagesList))\n",
    "    \n",
    "    \n",
    "def displayLandmarkImagesLarge(urls):\n",
    "    \n",
    "    imageStyle = \"height: 100px; margin: 2px; float: left; border: 1px solid blue;\"\n",
    "    imagesList = ''.join([f\"<img style='{imageStyle}' src='{u}' />\" for _, u in urls.iteritems()])\n",
    "\n",
    "    display(HTML(imagesList))"
   ]
  },
  {
   "cell_type": "code",
   "execution_count": null,
   "metadata": {},
   "outputs": [
    {
     "data": {
      "text/html": [
       "<img style='height: 100px; margin: 2px; float: left; border: 1px solid blue;' src='https://upload.wikimedia.org/wikipedia/commons/4/40/Starr-120120-1774-Coffea_arabica-fruit_and_leaves-Enchanting_Floral_Gardens_of_Kula-Maui_%2824836894950%29.jpg' /><img style='height: 100px; margin: 2px; float: left; border: 1px solid blue;' src='https://upload.wikimedia.org/wikipedia/commons/b/bc/Starr_080219-3000_Passiflora_vitifolia.jpg' /><img style='height: 100px; margin: 2px; float: left; border: 1px solid blue;' src='https://upload.wikimedia.org/wikipedia/commons/f/fa/Starr-120301-3491-Erythrina_sp-perhaps_herbacea_habit_with_Takeda-Enchanting_Floral_Gardens_of_Kula-Maui_%2825044109691%29.jpg' /><img style='height: 100px; margin: 2px; float: left; border: 1px solid blue;' src='https://upload.wikimedia.org/wikipedia/commons/9/9b/Starr-120312-3692-Lantana_montevidensis-purple_flowers_and_variegated_leaves-Enchanting_Floral_Gardens_of_Kula-Maui_%2824506933854%29.jpg' /><img style='height: 100px; margin: 2px; float: left; border: 1px solid blue;' src='https://upload.wikimedia.org/wikipedia/commons/9/9f/Starr-100114-1282-Calliandra_haematocephala-flower_and_leaves-Enchanting_Floral_Gardens_of_Kula-Maui_%2824639289509%29.jpg' />"
      ],
      "text/plain": [
       "<IPython.core.display.HTML object>"
      ]
     },
     "metadata": {},
     "output_type": "display_data"
    },
    {
     "data": {
      "text/html": [
       "<img style='height: 100px; margin: 2px; float: left; border: 1px solid blue;' src='https://upload.wikimedia.org/wikipedia/commons/e/e1/46-101-0202_Lviv_SAM_2263.jpg' /><img style='height: 100px; margin: 2px; float: left; border: 1px solid blue;' src='https://upload.wikimedia.org/wikipedia/commons/6/60/46-101-1416_Lviv_DSC_9297.jpg' /><img style='height: 100px; margin: 2px; float: left; border: 1px solid blue;' src='https://upload.wikimedia.org/wikipedia/commons/0/07/%D0%A3%D0%9F%D0%A6_%D0%9A%D0%9F_%D1%85%D1%80%D0%B0%D0%BC_%D0%A2%D1%80%D1%8C%D0%BE%D1%85_%D0%A1%D0%B2%D1%8F%D1%82%D0%B8%D1%82%D0%B5%D0%BB%D1%96%D0%B2_-_panoramio_%2817%29.jpg' /><img style='height: 100px; margin: 2px; float: left; border: 1px solid blue;' src='https://upload.wikimedia.org/wikipedia/commons/c/c0/46-101-0492_Lviv_SAM_6370.jpg' /><img style='height: 100px; margin: 2px; float: left; border: 1px solid blue;' src='https://upload.wikimedia.org/wikipedia/commons/f/f4/%D0%97%D0%B0%D0%BB%D1%96%D0%B7%D0%BD%D0%B8%D1%87%D0%BD%D0%B8%D0%B9_%D0%BF%D0%B5%D1%80%D0%B5%D1%85%D1%96%D0%B4_%D0%B2_%D0%A0%D1%8F%D1%81%D0%BD%D0%B5_-_panoramio.jpg' />"
      ],
      "text/plain": [
       "<IPython.core.display.HTML object>"
      ]
     },
     "metadata": {},
     "output_type": "display_data"
    },
    {
     "data": {
      "text/html": [
       "<img style='height: 100px; margin: 2px; float: left; border: 1px solid blue;' src='https://upload.wikimedia.org/wikipedia/commons/5/53/Starr_041211-1410_Eucalyptus_sp..jpg' /><img style='height: 100px; margin: 2px; float: left; border: 1px solid blue;' src='https://upload.wikimedia.org/wikipedia/commons/a/a1/Starr-061003-0854-Deschampsia_nubigena-habitat_view_erosion_on_West_Rim_wall-HNP-Maui_%2824774023551%29.jpg' /><img style='height: 100px; margin: 2px; float: left; border: 1px solid blue;' src='https://upload.wikimedia.org/wikipedia/commons/c/cc/Starr-131124-3721-Pinus_sp-roadkill_dead_chukar_on_road-Front_Country_HNP-Maui_%2825227944365%29.jpg' /><img style='height: 100px; margin: 2px; float: left; border: 1px solid blue;' src='https://upload.wikimedia.org/wikipedia/commons/4/4b/Starr-121016-0851-Sophora_chrysophylla-habit_with_Michael_headed_for_Paliku-Bottomless_Pit_HNP-Maui_%2825075342802%29.jpg' /><img style='height: 100px; margin: 2px; float: left; border: 1px solid blue;' src='https://upload.wikimedia.org/wikipedia/commons/b/be/Starr-130722-0185-Senecio_madagascariensis-habitat_with_nene_crossing_sign-Front_Country_HNP-Maui_%2824594302323%29.jpg' />"
      ],
      "text/plain": [
       "<IPython.core.display.HTML object>"
      ]
     },
     "metadata": {},
     "output_type": "display_data"
    },
    {
     "data": {
      "text/html": [
       "<img style='height: 100px; margin: 2px; float: left; border: 1px solid blue;' src='https://upload.wikimedia.org/wikipedia/commons/3/31/Dip_netters_%286345286556%29.jpg' /><img style='height: 100px; margin: 2px; float: left; border: 1px solid blue;' src='https://upload.wikimedia.org/wikipedia/commons/b/bf/Waiting_for_the_Waterfowl_%286789933175%29.jpg' /><img style='height: 100px; margin: 2px; float: left; border: 1px solid blue;' src='https://upload.wikimedia.org/wikipedia/commons/0/06/Colors_reflected_%286254295826%29.jpg' /><img style='height: 100px; margin: 2px; float: left; border: 1px solid blue;' src='https://upload.wikimedia.org/wikipedia/commons/b/bf/The_final_hill_%287543672112%29.jpg' /><img style='height: 100px; margin: 2px; float: left; border: 1px solid blue;' src='https://upload.wikimedia.org/wikipedia/commons/c/cf/YR_Fossils_before_the_storm_%2826431455293%29.jpg' />"
      ],
      "text/plain": [
       "<IPython.core.display.HTML object>"
      ]
     },
     "metadata": {},
     "output_type": "display_data"
    },
    {
     "data": {
      "text/html": [
       "<img style='height: 100px; margin: 2px; float: left; border: 1px solid blue;' src='https://upload.wikimedia.org/wikipedia/commons/5/57/Toronto_tugboat_M.R._Kane_prepares_to_moor%2C_at_dusk%2C_2015_09_22_%285%29.JPG_-_panoramio.jpg' /><img style='height: 100px; margin: 2px; float: left; border: 1px solid blue;' src='https://upload.wikimedia.org/wikipedia/commons/c/c8/45_Parliament%2C_at_dusk%2C_2015_08_04_%281%29.JPG_-_panoramio.jpg' /><img style='height: 100px; margin: 2px; float: left; border: 1px solid blue;' src='https://upload.wikimedia.org/wikipedia/commons/8/84/Excavation_at_the_old_National_Hotel_on_2014_03_29_%2816%29.JPG_-_panoramio.jpg' /><img style='height: 100px; margin: 2px; float: left; border: 1px solid blue;' src='https://upload.wikimedia.org/wikipedia/commons/5/57/Excursion_boat_in_Toronto%2C_2015_07_08_%285%29.JPG_-_panoramio.jpg' /><img style='height: 100px; margin: 2px; float: left; border: 1px solid blue;' src='https://upload.wikimedia.org/wikipedia/commons/d/d1/Big_tug_%27Petite_Forte%27_pushes_notch_barge_out_Toronto%27s_Eastern_Gap_%2884%29.JPG_-_panoramio.jpg' />"
      ],
      "text/plain": [
       "<IPython.core.display.HTML object>"
      ]
     },
     "metadata": {},
     "output_type": "display_data"
    }
   ],
   "source": [
    "LANDMARK_NUMBER = 5\n",
    "IMAGES_NUMBER = 5\n",
    "landMarkIDs = pd.Series(train['landmark_id'].value_counts().keys())[1:LANDMARK_NUMBER+1]\n",
    "for landMarkID in landMarkIDs:\n",
    "    url = train[train['landmark_id'] == landMarkID]['url'].head(IMAGES_NUMBER)\n",
    "    displayLandmarkImagesLarge(url)\n"
   ]
  },
  {
   "cell_type": "code",
   "execution_count": null,
   "metadata": {},
   "outputs": [],
   "source": [
    "### Landmark id density plot"
   ]
  },
  {
   "cell_type": "code",
   "execution_count": null,
   "metadata": {},
   "outputs": [
    {
     "data": {
      "image/png": "[encoded data removed]",
      "text/plain": [
       "<Figure size 576x576 with 1 Axes>"
      ]
     },
     "metadata": {
      "needs_background": "light"
     },
     "output_type": "display_data"
    }
   ],
   "source": [
    "plt.figure(figsize = (8, 8))\n",
    "plt.title('Landmark id density plot')\n",
    "sns.kdeplot(train['landmark_id'], color=\"tomato\", shade=True)\n",
    "plt.show()"
   ]
  },
  {
   "cell_type": "code",
   "execution_count": null,
   "metadata": {},
   "outputs": [],
   "source": [
    "### Landmark id distribuition and density plot"
   ]
  },
  {
   "cell_type": "code",
   "execution_count": null,
   "metadata": {},
   "outputs": [
    {
     "data": {
      "image/png": "[encoded data removed]",
      "text/plain": [
       "<Figure size 576x576 with 1 Axes>"
      ]
     },
     "metadata": {
      "needs_background": "light"
     },
     "output_type": "display_data"
    }
   ],
   "source": [
    "plt.figure(figsize = (8, 8))\n",
    "plt.title('Landmark id distribuition and density plot')\n",
    "sns.distplot(train['landmark_id'],color='green', kde=True,bins=100)\n",
    "plt.show()"
   ]
  },
  {
   "cell_type": "code",
   "execution_count": null,
   "metadata": {},
   "outputs": [
    {
     "data": {
      "text/html": [
       "<img style='height: 60px; margin: 2px; float: left; border: 1px solid blue;' src='https://upload.wikimedia.org/wikipedia/commons/5/57/Toronto_tugboat_M.R._Kane_prepares_to_moor%2C_at_dusk%2C_2015_09_22_%285%29.JPG_-_panoramio.jpg' /><img style='height: 60px; margin: 2px; float: left; border: 1px solid blue;' src='https://upload.wikimedia.org/wikipedia/commons/c/c8/45_Parliament%2C_at_dusk%2C_2015_08_04_%281%29.JPG_-_panoramio.jpg' /><img style='height: 60px; margin: 2px; float: left; border: 1px solid blue;' src='https://upload.wikimedia.org/wikipedia/commons/8/84/Excavation_at_the_old_National_Hotel_on_2014_03_29_%2816%29.JPG_-_panoramio.jpg' /><img style='height: 60px; margin: 2px; float: left; border: 1px solid blue;' src='https://upload.wikimedia.org/wikipedia/commons/5/57/Excursion_boat_in_Toronto%2C_2015_07_08_%285%29.JPG_-_panoramio.jpg' /><img style='height: 60px; margin: 2px; float: left; border: 1px solid blue;' src='https://upload.wikimedia.org/wikipedia/commons/d/d1/Big_tug_%27Petite_Forte%27_pushes_notch_barge_out_Toronto%27s_Eastern_Gap_%2884%29.JPG_-_panoramio.jpg' /><img style='height: 60px; margin: 2px; float: left; border: 1px solid blue;' src='https://upload.wikimedia.org/wikipedia/commons/0/0a/Ocean_going_freighter_Blacky_unloading_raw_sugar_at_Redpath_sugar_refinery%2C_2015_09_09_%286%29.JPG_-_panoramio.jpg' /><img style='height: 60px; margin: 2px; float: left; border: 1px solid blue;' src='https://upload.wikimedia.org/wikipedia/commons/6/6a/Pictures_of_the_south_side_of_Front%2C_from_a_southbound_TTC_bus%2C_2016_07_09_%2823%29.JPG_-_panoramio.jpg' /><img style='height: 60px; margin: 2px; float: left; border: 1px solid blue;' src='https://upload.wikimedia.org/wikipedia/commons/7/75/Corktown%2C_Toronto%2C_ON_M5A%2C_Canada_-_panoramio_%2826%29.jpg' /><img style='height: 60px; margin: 2px; float: left; border: 1px solid blue;' src='https://upload.wikimedia.org/wikipedia/commons/d/db/Looking_south_at_the_re-construction_of_the_old_National_Hotel%2C_2014_01_13_%284%29.JPG_-_panoramio.jpg' /><img style='height: 60px; margin: 2px; float: left; border: 1px solid blue;' src='https://upload.wikimedia.org/wikipedia/commons/e/e0/Toronto_skyline_and_construction_in_the_West_Don_Lands%2C_2013_10_09_%2813%29.JPG_-_panoramio.jpg' /><img style='height: 60px; margin: 2px; float: left; border: 1px solid blue;' src='https://upload.wikimedia.org/wikipedia/commons/4/47/Big_tug_%27Petite_Forte%27_pushes_notch_barge_out_Toronto%27s_Eastern_Gap_%2871%29.JPG_-_panoramio.jpg' /><img style='height: 60px; margin: 2px; float: left; border: 1px solid blue;' src='https://upload.wikimedia.org/wikipedia/commons/4/40/45_Parliament%2C_2014_06_14_-c.JPG_-_panoramio.jpg' /><img style='height: 60px; margin: 2px; float: left; border: 1px solid blue;' src='https://upload.wikimedia.org/wikipedia/commons/d/d2/Corktown%2C_Toronto%2C_ON_M5A%2C_Canada_-_panoramio_%2821%29.jpg' /><img style='height: 60px; margin: 2px; float: left; border: 1px solid blue;' src='https://upload.wikimedia.org/wikipedia/commons/5/55/Water_sculpture%2C_Sherbourne_Commons%2C_2015_09_23_%281%29.JPG_-_panoramio.jpg' /><img style='height: 60px; margin: 2px; float: left; border: 1px solid blue;' src='https://upload.wikimedia.org/wikipedia/commons/6/64/Hardworking_crew_at_Fire_Station_333_put_a_vehicle_through_its_paces%2C_after_an_overhaul%2C_2016_07_21_%285%29.JPG_-_panoramio.jpg' /><img style='height: 60px; margin: 2px; float: left; border: 1px solid blue;' src='https://upload.wikimedia.org/wikipedia/commons/a/ab/Frozen_Keating_Channel%2C_2014_01_03_-b.JPG_-_panoramio.jpg' /><img style='height: 60px; margin: 2px; float: left; border: 1px solid blue;' src='https://upload.wikimedia.org/wikipedia/commons/3/3f/East_facade_of_the_St_Lawrence_Market%2C_2013_10_22_%2810%29.JPG_-_panoramio.jpg' /><img style='height: 60px; margin: 2px; float: left; border: 1px solid blue;' src='https://upload.wikimedia.org/wikipedia/commons/a/a6/45_Parliament%2C_2015_07_10_%281%29.JPG_-_panoramio.jpg' /><img style='height: 60px; margin: 2px; float: left; border: 1px solid blue;' src='https://upload.wikimedia.org/wikipedia/commons/1/1f/Looking_north_at_the_excavation_for_the_new_Globe_and_Mail_building%2C_2014_07_07_%2819%29.JPG_-_panoramio.jpg' /><img style='height: 60px; margin: 2px; float: left; border: 1px solid blue;' src='https://upload.wikimedia.org/wikipedia/commons/7/75/Toronto_tugboat_M.R._Kane_pushes_an_empty_barge_to_its_mooring_point_in_the_Keating_Channel%2C_2015_09_23_%2813%29.JPG_-_panoramio.jpg' /><img style='height: 60px; margin: 2px; float: left; border: 1px solid blue;' src='https://upload.wikimedia.org/wikipedia/commons/0/0e/Panorama_of_Toronto%27s_waterfront%2C_2016-08-17_%284%29_-_panoramio.jpg' /><img style='height: 60px; margin: 2px; float: left; border: 1px solid blue;' src='https://upload.wikimedia.org/wikipedia/commons/8/87/Pano_of_Toronto%27s_skyline%2C_2015_07_15_%2811%29.JPG_-_panoramio.jpg' /><img style='height: 60px; margin: 2px; float: left; border: 1px solid blue;' src='https://upload.wikimedia.org/wikipedia/commons/7/77/Pano_of_Toronto%27s_skyline%2C_2015_07_22_%2813%29.JPG_-_panoramio.jpg' /><img style='height: 60px; margin: 2px; float: left; border: 1px solid blue;' src='https://upload.wikimedia.org/wikipedia/commons/8/84/Big_barge_Chaulk_Lifter%2C_moored_in_the_Keating_Channel%2C_2015_10_04_%281%29.JPG_-_panoramio.jpg' /><img style='height: 60px; margin: 2px; float: left; border: 1px solid blue;' src='https://upload.wikimedia.org/wikipedia/commons/c/cb/NW_corner_of_Parliament_and_Queen%2C_2013_10_23_%286%29.JPG_-_panoramio.jpg' /><img style='height: 60px; margin: 2px; float: left; border: 1px solid blue;' src='https://upload.wikimedia.org/wikipedia/commons/f/f0/Looking_north_at_the_excavation_for_the_new_Globe_and_Mail_building%2C_2014_06_17_C_%283%29.JPG_-_panoramio.jpg' /><img style='height: 60px; margin: 2px; float: left; border: 1px solid blue;' src='https://upload.wikimedia.org/wikipedia/commons/e/ed/Construction_east_of_Sherbourne_Commons%2C_on_the_south_side_of_Queen%27s_Quay%2C_2015_09_04.JPG_-_panoramio.jpg' /><img style='height: 60px; margin: 2px; float: left; border: 1px solid blue;' src='https://upload.wikimedia.org/wikipedia/commons/3/3f/Frozen_Toronto_harbour_at_sunrise%2C_2014_01_04_%288%29.JPG_-_panoramio.jpg' /><img style='height: 60px; margin: 2px; float: left; border: 1px solid blue;' src='https://upload.wikimedia.org/wikipedia/commons/d/d0/Excavating_at_the_NW_corner_of_Sherbourne_and_Queen%27s_Quay%2C_2015_09_23_%285%29.JPG_-_panoramio.jpg' /><img style='height: 60px; margin: 2px; float: left; border: 1px solid blue;' src='https://upload.wikimedia.org/wikipedia/commons/4/41/Looking_south_at_Toronto%27s_harbour%2C_2015_09_09.JPG_-_panoramio.jpg' /><img style='height: 60px; margin: 2px; float: left; border: 1px solid blue;' src='https://upload.wikimedia.org/wikipedia/commons/2/23/Pano_of_Toronto%27s_skyline%2C_2015_10_04_%284%29.JPG_-_panoramio.jpg' /><img style='height: 60px; margin: 2px; float: left; border: 1px solid blue;' src='https://upload.wikimedia.org/wikipedia/commons/7/7e/Panos_of_Toronto%27s_waterfront%2C_2015_02_16_-a.JPG_-_panoramio.jpg' /><img style='height: 60px; margin: 2px; float: left; border: 1px solid blue;' src='https://upload.wikimedia.org/wikipedia/commons/5/5d/Freighters_moored_in_Toronto%2C_2015_08_12_%281%29.JPG_-_panoramio.jpg' /><img style='height: 60px; margin: 2px; float: left; border: 1px solid blue;' src='https://upload.wikimedia.org/wikipedia/commons/5/50/Corktown%2C_Toronto%2C_ON_M5A%2C_Canada_-_panoramio_%281%29.jpg' /><img style='height: 60px; margin: 2px; float: left; border: 1px solid blue;' src='https://upload.wikimedia.org/wikipedia/commons/0/03/Parliament_Square_Park%2C_2015_05_30_%284%29.JPG_-_panoramio.jpg' /><img style='height: 60px; margin: 2px; float: left; border: 1px solid blue;' src='https://upload.wikimedia.org/wikipedia/commons/b/b1/Panorama_of_Toronto%27s_skyline_at_dusk%2C_2015_07_14_%2813%29.JPG_-_panoramio.jpg' /><img style='height: 60px; margin: 2px; float: left; border: 1px solid blue;' src='https://upload.wikimedia.org/wikipedia/commons/3/36/Looking_up_Princess_Street_to_a_new_apartment_building_on_Adelaide%2C_2013_11_20_%282%29.JPG_-_panoramio.jpg' /><img style='height: 60px; margin: 2px; float: left; border: 1px solid blue;' src='https://upload.wikimedia.org/wikipedia/commons/8/8c/Excursion_vessel_River_Gambler_moored_in_Frozen_Toronto_harbour%2C_2015_03_11.JPG_-_panoramio.jpg' /><img style='height: 60px; margin: 2px; float: left; border: 1px solid blue;' src='https://upload.wikimedia.org/wikipedia/commons/2/2f/Construction%2C_corner_of_Adelaide_and_Princess%2C_2013_02_18_-as.JPG_-_panoramio.jpg' /><img style='height: 60px; margin: 2px; float: left; border: 1px solid blue;' src='https://upload.wikimedia.org/wikipedia/commons/6/69/Pineglen_moored_in_Toronto%27s_frozen_harbour%2C_2015_02_16_%281%29.JPG_-_panoramio.jpg' /><img style='height: 60px; margin: 2px; float: left; border: 1px solid blue;' src='https://upload.wikimedia.org/wikipedia/commons/b/b8/Panorama_of_construction_at_NW_corner_of_Bonnycastle_and_Queen%27s_Quay%2C_2016-08-07_%287%29_-_panoramio.jpg' /><img style='height: 60px; margin: 2px; float: left; border: 1px solid blue;' src='https://upload.wikimedia.org/wikipedia/commons/3/30/Algoma_Quebecois_-_panoramio_%289%29.jpg' /><img style='height: 60px; margin: 2px; float: left; border: 1px solid blue;' src='https://upload.wikimedia.org/wikipedia/commons/4/41/Pano_of_Lake_Shore_Boulevard_below_the_Gardiner_Expressway%2C_2015_06_02_%286%29.JPG_-_panoramio.jpg' /><img style='height: 60px; margin: 2px; float: left; border: 1px solid blue;' src='https://upload.wikimedia.org/wikipedia/commons/a/a9/I_think_this_boat_is_launching_buoys_for_sailors_to_compete%2C_2015_09_09_%282%29.JPG_-_panoramio.jpg' /><img style='height: 60px; margin: 2px; float: left; border: 1px solid blue;' src='https://upload.wikimedia.org/wikipedia/commons/3/34/NW_corner_of_Parliament_and_Queen%2C_2013_10_23_%287%29.JPG_-_panoramio.jpg' /><img style='height: 60px; margin: 2px; float: left; border: 1px solid blue;' src='https://upload.wikimedia.org/wikipedia/commons/a/a9/A_big_barge_and_tug_moored_in_the_Eastern_Gap%2C_2015_10_04_%282%29.JPG_-_panoramio.jpg' /><img style='height: 60px; margin: 2px; float: left; border: 1px solid blue;' src='https://upload.wikimedia.org/wikipedia/commons/6/69/A_stack_of_sewer_parts%2C_King_Street_at_Cherry%2C_Toronto%2C_2014_03_25_%281%29.JPG_-_panoramio.jpg' /><img style='height: 60px; margin: 2px; float: left; border: 1px solid blue;' src='https://upload.wikimedia.org/wikipedia/commons/c/cd/Road_maintenance_on_Front_Street%2C_between_Jarvis_and_Sherbourne%2C_2013_10_22_%2824%29.JPG_-_panoramio.jpg' /><img style='height: 60px; margin: 2px; float: left; border: 1px solid blue;' src='https://upload.wikimedia.org/wikipedia/commons/9/96/Images_of_Toronto_harbour%2C_2013_10_09_%2844%29.JPG_-_panoramio.jpg' /><img style='height: 60px; margin: 2px; float: left; border: 1px solid blue;' src='https://upload.wikimedia.org/wikipedia/commons/f/f3/Inside_the_reconstruction_of_the_National_Hotel%2C_2013_10_08_B_%281%29.JPG_-_panoramio.jpg' />"
      ],
      "text/plain": [
       "<IPython.core.display.HTML object>"
      ]
     },
     "metadata": {},
     "output_type": "display_data"
    }
   ],
   "source": [
    "IMAGES_NUMBER = 50\n",
    "landmarkId = train['landmark_id'].value_counts().keys()[5]\n",
    "urls = train[train['landmark_id'] == landmarkId]['url'].head(IMAGES_NUMBER)\n",
    "displayLandmarkImages(urls)"
   ]
  },
  {
   "cell_type": "code",
   "execution_count": null,
   "metadata": {},
   "outputs": [
    {
     "data": {
      "text/html": [
       "<img style='height: 100px; margin: 2px; float: left; border: 1px solid blue;' src='https://upload.wikimedia.org/wikipedia/commons/4/40/Starr-120120-1774-Coffea_arabica-fruit_and_leaves-Enchanting_Floral_Gardens_of_Kula-Maui_%2824836894950%29.jpg' /><img style='height: 100px; margin: 2px; float: left; border: 1px solid blue;' src='https://upload.wikimedia.org/wikipedia/commons/b/bc/Starr_080219-3000_Passiflora_vitifolia.jpg' /><img style='height: 100px; margin: 2px; float: left; border: 1px solid blue;' src='https://upload.wikimedia.org/wikipedia/commons/f/fa/Starr-120301-3491-Erythrina_sp-perhaps_herbacea_habit_with_Takeda-Enchanting_Floral_Gardens_of_Kula-Maui_%2825044109691%29.jpg' /><img style='height: 100px; margin: 2px; float: left; border: 1px solid blue;' src='https://upload.wikimedia.org/wikipedia/commons/9/9b/Starr-120312-3692-Lantana_montevidensis-purple_flowers_and_variegated_leaves-Enchanting_Floral_Gardens_of_Kula-Maui_%2824506933854%29.jpg' /><img style='height: 100px; margin: 2px; float: left; border: 1px solid blue;' src='https://upload.wikimedia.org/wikipedia/commons/9/9f/Starr-100114-1282-Calliandra_haematocephala-flower_and_leaves-Enchanting_Floral_Gardens_of_Kula-Maui_%2824639289509%29.jpg' />"
      ],
      "text/plain": [
       "<IPython.core.display.HTML object>"
      ]
     },
     "metadata": {},
     "output_type": "display_data"
    },
    {
     "data": {
      "text/html": [
       "<img style='height: 100px; margin: 2px; float: left; border: 1px solid blue;' src='https://upload.wikimedia.org/wikipedia/commons/e/e1/46-101-0202_Lviv_SAM_2263.jpg' /><img style='height: 100px; margin: 2px; float: left; border: 1px solid blue;' src='https://upload.wikimedia.org/wikipedia/commons/6/60/46-101-1416_Lviv_DSC_9297.jpg' /><img style='height: 100px; margin: 2px; float: left; border: 1px solid blue;' src='https://upload.wikimedia.org/wikipedia/commons/0/07/%D0%A3%D0%9F%D0%A6_%D0%9A%D0%9F_%D1%85%D1%80%D0%B0%D0%BC_%D0%A2%D1%80%D1%8C%D0%BE%D1%85_%D0%A1%D0%B2%D1%8F%D1%82%D0%B8%D1%82%D0%B5%D0%BB%D1%96%D0%B2_-_panoramio_%2817%29.jpg' /><img style='height: 100px; margin: 2px; float: left; border: 1px solid blue;' src='https://upload.wikimedia.org/wikipedia/commons/c/c0/46-101-0492_Lviv_SAM_6370.jpg' /><img style='height: 100px; margin: 2px; float: left; border: 1px solid blue;' src='https://upload.wikimedia.org/wikipedia/commons/f/f4/%D0%97%D0%B0%D0%BB%D1%96%D0%B7%D0%BD%D0%B8%D1%87%D0%BD%D0%B8%D0%B9_%D0%BF%D0%B5%D1%80%D0%B5%D1%85%D1%96%D0%B4_%D0%B2_%D0%A0%D1%8F%D1%81%D0%BD%D0%B5_-_panoramio.jpg' />"
      ],
      "text/plain": [
       "<IPython.core.display.HTML object>"
      ]
     },
     "metadata": {},
     "output_type": "display_data"
    },
    {
     "data": {
      "text/html": [
       "<img style='height: 100px; margin: 2px; float: left; border: 1px solid blue;' src='https://upload.wikimedia.org/wikipedia/commons/5/53/Starr_041211-1410_Eucalyptus_sp..jpg' /><img style='height: 100px; margin: 2px; float: left; border: 1px solid blue;' src='https://upload.wikimedia.org/wikipedia/commons/a/a1/Starr-061003-0854-Deschampsia_nubigena-habitat_view_erosion_on_West_Rim_wall-HNP-Maui_%2824774023551%29.jpg' /><img style='height: 100px; margin: 2px; float: left; border: 1px solid blue;' src='https://upload.wikimedia.org/wikipedia/commons/c/cc/Starr-131124-3721-Pinus_sp-roadkill_dead_chukar_on_road-Front_Country_HNP-Maui_%2825227944365%29.jpg' /><img style='height: 100px; margin: 2px; float: left; border: 1px solid blue;' src='https://upload.wikimedia.org/wikipedia/commons/4/4b/Starr-121016-0851-Sophora_chrysophylla-habit_with_Michael_headed_for_Paliku-Bottomless_Pit_HNP-Maui_%2825075342802%29.jpg' /><img style='height: 100px; margin: 2px; float: left; border: 1px solid blue;' src='https://upload.wikimedia.org/wikipedia/commons/b/be/Starr-130722-0185-Senecio_madagascariensis-habitat_with_nene_crossing_sign-Front_Country_HNP-Maui_%2824594302323%29.jpg' />"
      ],
      "text/plain": [
       "<IPython.core.display.HTML object>"
      ]
     },
     "metadata": {},
     "output_type": "display_data"
    },
    {
     "data": {
      "text/html": [
       "<img style='height: 100px; margin: 2px; float: left; border: 1px solid blue;' src='https://upload.wikimedia.org/wikipedia/commons/3/31/Dip_netters_%286345286556%29.jpg' /><img style='height: 100px; margin: 2px; float: left; border: 1px solid blue;' src='https://upload.wikimedia.org/wikipedia/commons/b/bf/Waiting_for_the_Waterfowl_%286789933175%29.jpg' /><img style='height: 100px; margin: 2px; float: left; border: 1px solid blue;' src='https://upload.wikimedia.org/wikipedia/commons/0/06/Colors_reflected_%286254295826%29.jpg' /><img style='height: 100px; margin: 2px; float: left; border: 1px solid blue;' src='https://upload.wikimedia.org/wikipedia/commons/b/bf/The_final_hill_%287543672112%29.jpg' /><img style='height: 100px; margin: 2px; float: left; border: 1px solid blue;' src='https://upload.wikimedia.org/wikipedia/commons/c/cf/YR_Fossils_before_the_storm_%2826431455293%29.jpg' />"
      ],
      "text/plain": [
       "<IPython.core.display.HTML object>"
      ]
     },
     "metadata": {},
     "output_type": "display_data"
    },
    {
     "data": {
      "text/html": [
       "<img style='height: 100px; margin: 2px; float: left; border: 1px solid blue;' src='https://upload.wikimedia.org/wikipedia/commons/5/57/Toronto_tugboat_M.R._Kane_prepares_to_moor%2C_at_dusk%2C_2015_09_22_%285%29.JPG_-_panoramio.jpg' /><img style='height: 100px; margin: 2px; float: left; border: 1px solid blue;' src='https://upload.wikimedia.org/wikipedia/commons/c/c8/45_Parliament%2C_at_dusk%2C_2015_08_04_%281%29.JPG_-_panoramio.jpg' /><img style='height: 100px; margin: 2px; float: left; border: 1px solid blue;' src='https://upload.wikimedia.org/wikipedia/commons/8/84/Excavation_at_the_old_National_Hotel_on_2014_03_29_%2816%29.JPG_-_panoramio.jpg' /><img style='height: 100px; margin: 2px; float: left; border: 1px solid blue;' src='https://upload.wikimedia.org/wikipedia/commons/5/57/Excursion_boat_in_Toronto%2C_2015_07_08_%285%29.JPG_-_panoramio.jpg' /><img style='height: 100px; margin: 2px; float: left; border: 1px solid blue;' src='https://upload.wikimedia.org/wikipedia/commons/d/d1/Big_tug_%27Petite_Forte%27_pushes_notch_barge_out_Toronto%27s_Eastern_Gap_%2884%29.JPG_-_panoramio.jpg' />"
      ],
      "text/plain": [
       "<IPython.core.display.HTML object>"
      ]
     },
     "metadata": {},
     "output_type": "display_data"
    }
   ],
   "source": [
    "LANDMARK_NUMBER = 5\n",
    "IMAGES_NUMBER = 5\n",
    "landMarkIDs = pd.Series(train['landmark_id'].value_counts().keys())[1:LANDMARK_NUMBER+1]\n",
    "for landMarkID in landMarkIDs:\n",
    "    url = train[train['landmark_id'] == landMarkID]['url'].head(IMAGES_NUMBER)\n",
    "    displayLandmarkImagesLarge(url)"
   ]
  },
  {
   "cell_type": "markdown",
   "metadata": {},
   "source": [
    "## End of the Jupyter Notebook"
   ]
  }
 ],
 "metadata": {
  "kernelspec": {
   "display_name": "Python 3",
   "language": "python",
   "name": "python3"
  },
  "language_info": {
   "codemirror_mode": {
    "name": "ipython",
    "version": 3
   },
   "file_extension": ".py",
   "mimetype": "text/x-python",
   "name": "python",
   "nbconvert_exporter": "python",
   "pygments_lexer": "ipython3",
   "version": "3.11.8"
  }
 },
 "nbformat": 4,
 "nbformat_minor": 2
}
